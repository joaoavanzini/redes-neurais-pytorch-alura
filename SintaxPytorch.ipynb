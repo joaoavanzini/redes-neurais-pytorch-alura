{
  "nbformat": 4,
  "nbformat_minor": 0,
  "metadata": {
    "colab": {
      "name": "SintaxPytorch.ipynb",
      "provenance": [],
      "collapsed_sections": [],
      "include_colab_link": true
    },
    "kernelspec": {
      "name": "python3",
      "display_name": "Python 3"
    },
    "accelerator": "GPU"
  },
  "cells": [
    {
      "cell_type": "markdown",
      "metadata": {
        "id": "view-in-github",
        "colab_type": "text"
      },
      "source": [
        "<a href=\"https://colab.research.google.com/github/vicpb/redes-neurais-pytorch-alura/blob/main/SintaxPytorch.ipynb\" target=\"_parent\"><img src=\"https://colab.research.google.com/assets/colab-badge.svg\" alt=\"Open In Colab\"/></a>"
      ]
    },
    {
      "cell_type": "code",
      "metadata": {
        "id": "Jo3G-RN7t2kl",
        "colab": {
          "base_uri": "https://localhost:8080/"
        },
        "outputId": "22a7d2be-30da-4cb7-fda3-7e3f135ae25e"
      },
      "source": [
        "import torch\n",
        "tns = torch.randn(9, 12)\n",
        "tns1 = tns[0:5, 0:4]\n",
        "tns2 = tns[5:, 4:]\n",
        "\n",
        "resultado = torch.mm(tns1, tns2)\n",
        "print(resultado.size())"
      ],
      "execution_count": 1,
      "outputs": [
        {
          "output_type": "stream",
          "text": [
            "torch.Size([5, 8])\n"
          ],
          "name": "stdout"
        }
      ]
    },
    {
      "cell_type": "markdown",
      "metadata": {
        "id": "c25hqijfflPT"
      },
      "source": [
        "# Sintaxe básica do Pytorch\n",
        "\n",
        "Assim como o NumPy, o Pytorch é uma biblioteca de processamento vetorial/matricial/tensorial. Operações sobre os tensores do Pytorch possuem sintaxe consideravelmente parecida com operações sobre tensores do NumPy.\n",
        "\n",
        "Para mais informações sobre tensores em PyTorch, consulte a documentação: <br> https://pytorch.org/docs/stable/tensors.html\n",
        "\n"
      ]
    },
    {
      "cell_type": "markdown",
      "metadata": {
        "id": "pIHvu_8afoi2"
      },
      "source": [
        "## Tipos de tensores \n",
        "\n",
        "Você pode criar tensores do PyTorch de inúmeras formas! Vamos ver primeiro os tipos de tensores que estão ao nosso dispor. Para isso, vamos converter listas comuns do Python em tensors do PyTorch.\n",
        "\n",
        "Note que a impressão de tensores dos tipos ```float32``` e ```int64``` não vêm acompanhadas do parâmetro de tipo ```dtype```, visto que se tratam dos tipos padrão trabalhados pelo PyTorch."
      ]
    },
    {
      "cell_type": "code",
      "metadata": {
        "id": "hnOEg66FjD2F",
        "colab": {
          "base_uri": "https://localhost:8080/"
        },
        "outputId": "b5ce1cf6-acd6-4a9a-f38f-1c91ae59d5c1"
      },
      "source": [
        "import torch\n",
        "lista = [ [1,2,3],\n",
        "          [4,5,6] ]\n",
        "\n",
        "tns = torch.Tensor(lista)\n",
        "print(tns.dtype)\n",
        "print(tns)\n",
        "\n",
        "print('')\n",
        "tns = torch.DoubleTensor(lista)\n",
        "print(tns.dtype)\n",
        "print(tns)\n",
        "\n",
        "print('')\n",
        "tns = torch.LongTensor(lista)\n",
        "print(tns.dtype)\n",
        "print(tns)\n"
      ],
      "execution_count": 2,
      "outputs": [
        {
          "output_type": "stream",
          "text": [
            "torch.float32\n",
            "tensor([[1., 2., 3.],\n",
            "        [4., 5., 6.]])\n",
            "\n",
            "torch.float64\n",
            "tensor([[1., 2., 3.],\n",
            "        [4., 5., 6.]], dtype=torch.float64)\n",
            "\n",
            "torch.int64\n",
            "tensor([[1, 2, 3],\n",
            "        [4, 5, 6]])\n"
          ],
          "name": "stdout"
        }
      ]
    },
    {
      "cell_type": "markdown",
      "metadata": {
        "id": "gxA-fH8bq_fQ"
      },
      "source": [
        "## Outras formas de instanciar tensores\n",
        "\n",
        "### A partir de arrays Numpy\n",
        "$torch.from\\_numpy()$ \n",
        "\n"
      ]
    },
    {
      "cell_type": "code",
      "metadata": {
        "id": "eNxZ-rMHq-xd",
        "colab": {
          "base_uri": "https://localhost:8080/"
        },
        "outputId": "27c59fd8-e409-40f1-f33b-37f6cd13e298"
      },
      "source": [
        "import numpy as np\n",
        "\n",
        "arr = np.random.rand(3,4)\n",
        "arr = arr.astype(int)\n",
        "print(arr)\n",
        "print(arr.dtype)\n",
        "\n",
        "print('')\n",
        "tns = torch.from_numpy(arr)\n",
        "print(tns)\n",
        "print(tns.dtype)"
      ],
      "execution_count": 3,
      "outputs": [
        {
          "output_type": "stream",
          "text": [
            "[[0 0 0 0]\n",
            " [0 0 0 0]\n",
            " [0 0 0 0]]\n",
            "int64\n",
            "\n",
            "tensor([[0, 0, 0, 0],\n",
            "        [0, 0, 0, 0],\n",
            "        [0, 0, 0, 0]])\n",
            "torch.int64\n"
          ],
          "name": "stdout"
        }
      ]
    },
    {
      "cell_type": "markdown",
      "metadata": {
        "id": "7QC4F0AqkpPb"
      },
      "source": [
        "### Tensores inicializados\n",
        "Essas funções recebem como parâmetro o tamanho de cada dimensão do tensor. Aqui vamos conhecer as seguintes funções:\n",
        "\n",
        "$torch.ones()$ -> Cria um tensor preenchido com zeros.\n",
        "\n",
        "$torch.zeros()$ -> Cria um tensor preenchido com uns.\n",
        "\n",
        "$torch.randn()$ -> Cria um tensor preenchido com números aleatórios a partir de uma distribuição normal."
      ]
    },
    {
      "cell_type": "code",
      "metadata": {
        "id": "mZ0kLNgtko5O",
        "colab": {
          "base_uri": "https://localhost:8080/"
        },
        "outputId": "a43b783f-d6f0-490b-ed50-c5d8fd4d6e6a"
      },
      "source": [
        "tns1 = torch.ones(2, 3)\n",
        "tns0 = torch.zeros(3, 5)\n",
        "tnsr = torch.randn(3, 3)\n",
        "\n",
        "print(tns1)\n",
        "print(tns0)\n",
        "print(tnsr)"
      ],
      "execution_count": 4,
      "outputs": [
        {
          "output_type": "stream",
          "text": [
            "tensor([[1., 1., 1.],\n",
            "        [1., 1., 1.]])\n",
            "tensor([[0., 0., 0., 0., 0.],\n",
            "        [0., 0., 0., 0., 0.],\n",
            "        [0., 0., 0., 0., 0.]])\n",
            "tensor([[ 0.5880, -0.8781, -0.0277],\n",
            "        [-1.2730, -1.1766, -0.0922],\n",
            "        [ 0.9064,  1.1713, -1.4862]])\n"
          ],
          "name": "stdout"
        }
      ]
    },
    {
      "cell_type": "markdown",
      "metadata": {
        "id": "lf9piGFVnx6m"
      },
      "source": [
        "### Tensor para array numpy"
      ]
    },
    {
      "cell_type": "code",
      "metadata": {
        "id": "FLGt-iw2n3Za",
        "colab": {
          "base_uri": "https://localhost:8080/"
        },
        "outputId": "6aab16ba-f8c1-42af-de13-9f70dd3e9cf0"
      },
      "source": [
        "arr = tnsr.data.numpy()\n",
        "print(arr)"
      ],
      "execution_count": 5,
      "outputs": [
        {
          "output_type": "stream",
          "text": [
            "[[ 0.58804977 -0.8780534  -0.02772255]\n",
            " [-1.2729596  -1.1765667  -0.09224884]\n",
            " [ 0.9064113   1.1713089  -1.486236  ]]\n"
          ],
          "name": "stdout"
        }
      ]
    },
    {
      "cell_type": "markdown",
      "metadata": {
        "id": "X07bm9KBnMtA"
      },
      "source": [
        "## Indexação\n",
        "\n",
        "De posse dessa informação, a indexação é feita de forma similar a arrays Numpy, através da sintaxe de colchetes ```[]```."
      ]
    },
    {
      "cell_type": "code",
      "metadata": {
        "id": "c8jRdxHTpCN0",
        "colab": {
          "base_uri": "https://localhost:8080/"
        },
        "outputId": "8c229939-f297-4aa0-9f42-69b88a6f86b3"
      },
      "source": [
        "# tnsr[0,1]\n",
        "\n",
        "print(tnsr[0:2, 2].data.numpy())\n",
        "print(tnsr[0, 1].item())"
      ],
      "execution_count": 6,
      "outputs": [
        {
          "output_type": "stream",
          "text": [
            "[-0.02772255 -0.09224884]\n",
            "-0.8780534267425537\n"
          ],
          "name": "stdout"
        }
      ]
    },
    {
      "cell_type": "markdown",
      "metadata": {
        "id": "EzGW3gVTqK4y"
      },
      "source": [
        "## Operações com tensores\n",
        "\n",
        "A função ```.item()``` utilizada anteriormente extrai o número de um tensor que possui um único valor, permitindo realizar as operações numéricas do Python. Caso o item não seja extraído, operações que envolvam tensores vão retornar novos tensores.\n",
        "\n",
        "Vale ressaltar também que operações entre tensores são realizadas **ponto a ponto**, operando cada elemento ```(i, j)``` do tensor ```t1```, com o elemento ```(i, j)``` do tensor ```t2```."
      ]
    },
    {
      "cell_type": "code",
      "metadata": {
        "id": "vuQTTUf6QiY0",
        "colab": {
          "base_uri": "https://localhost:8080/"
        },
        "outputId": "82f0e2ae-bdf1-4e9c-bfa2-e26d6be57d77"
      },
      "source": [
        "tns1 = torch.randn(2,2,3)\n",
        "tns2 = torch.ones(2,2,3)\n",
        "\n",
        "print(tns1)\n",
        "print(tns2)\n",
        "\n",
        "print('')\n",
        "\n",
        "print(tns1*tns2)"
      ],
      "execution_count": 7,
      "outputs": [
        {
          "output_type": "stream",
          "text": [
            "tensor([[[ 0.0593, -0.2056, -0.5903],\n",
            "         [-0.4979, -0.9865, -1.9677]],\n",
            "\n",
            "        [[-0.4099, -0.4867, -0.3322],\n",
            "         [ 1.8631, -0.8231, -0.6170]]])\n",
            "tensor([[[1., 1., 1.],\n",
            "         [1., 1., 1.]],\n",
            "\n",
            "        [[1., 1., 1.],\n",
            "         [1., 1., 1.]]])\n",
            "\n",
            "tensor([[[ 0.0593, -0.2056, -0.5903],\n",
            "         [-0.4979, -0.9865, -1.9677]],\n",
            "\n",
            "        [[-0.4099, -0.4867, -0.3322],\n",
            "         [ 1.8631, -0.8231, -0.6170]]])\n"
          ],
          "name": "stdout"
        }
      ]
    },
    {
      "cell_type": "markdown",
      "metadata": {
        "id": "f-N_PETWtMZ7"
      },
      "source": [
        "## Função ```.size()``` e ```.view()```\n",
        "\n",
        "Uma operações **importantíssima** na manipulação de tensores para Deep Learning é a reorganização das suas dimensões. Dessa forma podemos, por exemplo, **linearizar um tensor n-dimensional**."
      ]
    },
    {
      "cell_type": "code",
      "metadata": {
        "id": "CKgCe5brte2L",
        "colab": {
          "base_uri": "https://localhost:8080/"
        },
        "outputId": "1bb7c59d-bca1-4410-b47e-fed2c44a1e39"
      },
      "source": [
        "print(tns2.size())\n",
        "\n",
        "print(tns2.view(tns2.size(0), -1))"
      ],
      "execution_count": 8,
      "outputs": [
        {
          "output_type": "stream",
          "text": [
            "torch.Size([2, 2, 3])\n",
            "tensor([[1., 1., 1., 1., 1., 1.],\n",
            "        [1., 1., 1., 1., 1., 1.]])\n"
          ],
          "name": "stdout"
        }
      ]
    },
    {
      "cell_type": "markdown",
      "metadata": {
        "id": "0o4_LzQoz0Ti"
      },
      "source": [
        "## GPU Cast\n",
        "\n",
        "Para que o seu script dê suporte a infraestruturas com e sem GPU, é importante definir o dispositivo no início do seu código de acordo com a verificação apresentada a seguir. Essa definição de dispositivo será utilizada toda vez que precisarmos subir valores na GPU, como os pesos da rede, os gradientes, etc."
      ]
    },
    {
      "cell_type": "code",
      "metadata": {
        "id": "uePyYun4z1u3",
        "colab": {
          "base_uri": "https://localhost:8080/"
        },
        "outputId": "6102582a-8317-436c-fb6a-293667b5fce6"
      },
      "source": [
        "if torch.cuda.is_available():\n",
        "  device = torch.device('cuda')\n",
        "else:\n",
        "  device = torch.device('cpu')\n",
        "  \n",
        "print(device)\n",
        "\n",
        "tns2 = tns2.to(device)\n",
        "print(tns2)"
      ],
      "execution_count": 9,
      "outputs": [
        {
          "output_type": "stream",
          "text": [
            "cuda\n",
            "tensor([[[1., 1., 1.],\n",
            "         [1., 1., 1.]],\n",
            "\n",
            "        [[1., 1., 1.],\n",
            "         [1., 1., 1.]]], device='cuda:0')\n"
          ],
          "name": "stdout"
        }
      ]
    }
  ]
}